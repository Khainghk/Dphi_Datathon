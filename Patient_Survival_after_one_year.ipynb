{
 "cells": [
  {
   "cell_type": "markdown",
   "metadata": {},
   "source": [
    "## Overview\n",
    "A hospital in the province of Greenland has been trying to improve its care conditions by looking at historic survival of the patients. They tried looking at their data but could not identify the main factors leading to high survivals."
   ]
  },
  {
   "cell_type": "markdown",
   "metadata": {},
   "source": [
    "## Objective\n",
    "You are the best data scientist in Greenland and they've hired you to solve this problem. Now you are responsible for developing a model that will predict the chances of survival of a patient after 1 year of treatment (Survived_1_year)."
   ]
  },
  {
   "cell_type": "markdown",
   "metadata": {},
   "source": [
    "### Contents:\n",
    "1. Import necessay libraries\n",
    "2. Load the dataset\n",
    "3. Data Analysis\n",
    "4. Cleaning data\n",
    "5. Data visualization\n",
    "6. Gradient Boost Classifier Model\n",
    "7. Prediction"
   ]
  },
  {
   "cell_type": "markdown",
   "metadata": {},
   "source": [
    "### 1) Import necessary libraries"
   ]
  },
  {
   "cell_type": "code",
   "execution_count": 1,
   "metadata": {},
   "outputs": [],
   "source": [
    "# Import necessary libraries\n",
    "import pandas as pd\n",
    "import numpy as np\n",
    "import matplotlib.pyplot as plt\n",
    "import seaborn as sns\n",
    "import sklearn\n",
    "import math\n",
    "\n",
    "from sklearn.preprocessing import StandardScaler, scale\n",
    "%matplotlib inline"
   ]
  },
  {
   "cell_type": "markdown",
   "metadata": {},
   "source": [
    "### 2) Load the dataset"
   ]
  },
  {
   "cell_type": "code",
   "execution_count": 2,
   "metadata": {},
   "outputs": [],
   "source": [
    "# Load the datasets\n",
    "train_df = pd.read_csv(\"./data/Train_Data.csv\")\n",
    "test_df = pd.read_csv(\"./data/Test_Data.csv\")"
   ]
  },
  {
   "cell_type": "markdown",
   "metadata": {},
   "source": [
    "### 3) Data analysis\n",
    "We're going to consider the features in the dataset and how complete they are."
   ]
  },
  {
   "cell_type": "code",
   "execution_count": 3,
   "metadata": {},
   "outputs": [
    {
     "name": "stdout",
     "output_type": "stream",
     "text": [
      "Index(['ID_Patient_Care_Situation', 'Diagnosed_Condition', 'Patient_ID',\n",
      "       'Treated_with_drugs', 'Patient_Age', 'Patient_Body_Mass_Index',\n",
      "       'Patient_Smoker', 'Patient_Rural_Urban', 'Patient_mental_condition',\n",
      "       'A', 'B', 'C', 'D', 'E', 'F', 'Z', 'Number_of_prev_cond',\n",
      "       'Survived_1_year'],\n",
      "      dtype='object')\n"
     ]
    }
   ],
   "source": [
    "#get a list of the features within the dataset\n",
    "print(train_df.columns)"
   ]
  },
  {
   "cell_type": "code",
   "execution_count": 4,
   "metadata": {},
   "outputs": [
    {
     "data": {
      "text/html": [
       "<div>\n",
       "<style scoped>\n",
       "    .dataframe tbody tr th:only-of-type {\n",
       "        vertical-align: middle;\n",
       "    }\n",
       "\n",
       "    .dataframe tbody tr th {\n",
       "        vertical-align: top;\n",
       "    }\n",
       "\n",
       "    .dataframe thead th {\n",
       "        text-align: right;\n",
       "    }\n",
       "</style>\n",
       "<table border=\"1\" class=\"dataframe\">\n",
       "  <thead>\n",
       "    <tr style=\"text-align: right;\">\n",
       "      <th></th>\n",
       "      <th>ID_Patient_Care_Situation</th>\n",
       "      <th>Diagnosed_Condition</th>\n",
       "      <th>Patient_ID</th>\n",
       "      <th>Treated_with_drugs</th>\n",
       "      <th>Patient_Age</th>\n",
       "      <th>Patient_Body_Mass_Index</th>\n",
       "      <th>Patient_Smoker</th>\n",
       "      <th>Patient_Rural_Urban</th>\n",
       "      <th>Patient_mental_condition</th>\n",
       "      <th>A</th>\n",
       "      <th>B</th>\n",
       "      <th>C</th>\n",
       "      <th>D</th>\n",
       "      <th>E</th>\n",
       "      <th>F</th>\n",
       "      <th>Z</th>\n",
       "      <th>Number_of_prev_cond</th>\n",
       "      <th>Survived_1_year</th>\n",
       "    </tr>\n",
       "  </thead>\n",
       "  <tbody>\n",
       "    <tr>\n",
       "      <th>16218</th>\n",
       "      <td>20330</td>\n",
       "      <td>38</td>\n",
       "      <td>9198</td>\n",
       "      <td>DX6</td>\n",
       "      <td>25</td>\n",
       "      <td>25.730786</td>\n",
       "      <td>YES</td>\n",
       "      <td>RURAL</td>\n",
       "      <td>Stable</td>\n",
       "      <td>1.0</td>\n",
       "      <td>0.0</td>\n",
       "      <td>0.0</td>\n",
       "      <td>1.0</td>\n",
       "      <td>0.0</td>\n",
       "      <td>0.0</td>\n",
       "      <td>0.0</td>\n",
       "      <td>2.0</td>\n",
       "      <td>0</td>\n",
       "    </tr>\n",
       "    <tr>\n",
       "      <th>16994</th>\n",
       "      <td>6891</td>\n",
       "      <td>16</td>\n",
       "      <td>8351</td>\n",
       "      <td>DX6</td>\n",
       "      <td>33</td>\n",
       "      <td>20.405656</td>\n",
       "      <td>YES</td>\n",
       "      <td>RURAL</td>\n",
       "      <td>Stable</td>\n",
       "      <td>0.0</td>\n",
       "      <td>0.0</td>\n",
       "      <td>0.0</td>\n",
       "      <td>0.0</td>\n",
       "      <td>1.0</td>\n",
       "      <td>0.0</td>\n",
       "      <td>0.0</td>\n",
       "      <td>1.0</td>\n",
       "      <td>1</td>\n",
       "    </tr>\n",
       "    <tr>\n",
       "      <th>371</th>\n",
       "      <td>10823</td>\n",
       "      <td>25</td>\n",
       "      <td>8889</td>\n",
       "      <td>DX6</td>\n",
       "      <td>51</td>\n",
       "      <td>20.706099</td>\n",
       "      <td>NO</td>\n",
       "      <td>URBAN</td>\n",
       "      <td>Stable</td>\n",
       "      <td>1.0</td>\n",
       "      <td>1.0</td>\n",
       "      <td>0.0</td>\n",
       "      <td>0.0</td>\n",
       "      <td>0.0</td>\n",
       "      <td>0.0</td>\n",
       "      <td>0.0</td>\n",
       "      <td>2.0</td>\n",
       "      <td>0</td>\n",
       "    </tr>\n",
       "    <tr>\n",
       "      <th>17696</th>\n",
       "      <td>7901</td>\n",
       "      <td>4</td>\n",
       "      <td>11950</td>\n",
       "      <td>DX6</td>\n",
       "      <td>0</td>\n",
       "      <td>19.870664</td>\n",
       "      <td>NO</td>\n",
       "      <td>URBAN</td>\n",
       "      <td>Stable</td>\n",
       "      <td>1.0</td>\n",
       "      <td>0.0</td>\n",
       "      <td>1.0</td>\n",
       "      <td>1.0</td>\n",
       "      <td>0.0</td>\n",
       "      <td>1.0</td>\n",
       "      <td>0.0</td>\n",
       "      <td>4.0</td>\n",
       "      <td>0</td>\n",
       "    </tr>\n",
       "    <tr>\n",
       "      <th>12566</th>\n",
       "      <td>20736</td>\n",
       "      <td>49</td>\n",
       "      <td>11850</td>\n",
       "      <td>DX4</td>\n",
       "      <td>6</td>\n",
       "      <td>18.006940</td>\n",
       "      <td>NO</td>\n",
       "      <td>RURAL</td>\n",
       "      <td>Stable</td>\n",
       "      <td>1.0</td>\n",
       "      <td>0.0</td>\n",
       "      <td>0.0</td>\n",
       "      <td>0.0</td>\n",
       "      <td>1.0</td>\n",
       "      <td>0.0</td>\n",
       "      <td>0.0</td>\n",
       "      <td>2.0</td>\n",
       "      <td>0</td>\n",
       "    </tr>\n",
       "  </tbody>\n",
       "</table>\n",
       "</div>"
      ],
      "text/plain": [
       "       ID_Patient_Care_Situation  Diagnosed_Condition  Patient_ID  \\\n",
       "16218                      20330                   38        9198   \n",
       "16994                       6891                   16        8351   \n",
       "371                        10823                   25        8889   \n",
       "17696                       7901                    4       11950   \n",
       "12566                      20736                   49       11850   \n",
       "\n",
       "      Treated_with_drugs  Patient_Age  Patient_Body_Mass_Index Patient_Smoker  \\\n",
       "16218                DX6           25                25.730786            YES   \n",
       "16994                DX6           33                20.405656            YES   \n",
       "371                  DX6           51                20.706099             NO   \n",
       "17696                DX6            0                19.870664             NO   \n",
       "12566               DX4             6                18.006940             NO   \n",
       "\n",
       "      Patient_Rural_Urban Patient_mental_condition    A    B    C    D    E  \\\n",
       "16218               RURAL                   Stable  1.0  0.0  0.0  1.0  0.0   \n",
       "16994               RURAL                   Stable  0.0  0.0  0.0  0.0  1.0   \n",
       "371                 URBAN                   Stable  1.0  1.0  0.0  0.0  0.0   \n",
       "17696               URBAN                   Stable  1.0  0.0  1.0  1.0  0.0   \n",
       "12566               RURAL                   Stable  1.0  0.0  0.0  0.0  1.0   \n",
       "\n",
       "         F    Z  Number_of_prev_cond  Survived_1_year  \n",
       "16218  0.0  0.0                  2.0                0  \n",
       "16994  0.0  0.0                  1.0                1  \n",
       "371    0.0  0.0                  2.0                0  \n",
       "17696  1.0  0.0                  4.0                0  \n",
       "12566  0.0  0.0                  2.0                0  "
      ]
     },
     "execution_count": 4,
     "metadata": {},
     "output_type": "execute_result"
    }
   ],
   "source": [
    "#see a sample of the dataset to get an idea of the variables\n",
    "train_df.sample(5)"
   ]
  },
  {
   "cell_type": "code",
   "execution_count": 5,
   "metadata": {},
   "outputs": [
    {
     "name": "stdout",
     "output_type": "stream",
     "text": [
      "<class 'pandas.core.frame.DataFrame'>\n",
      "RangeIndex: 23097 entries, 0 to 23096\n",
      "Data columns (total 18 columns):\n",
      " #   Column                     Non-Null Count  Dtype  \n",
      "---  ------                     --------------  -----  \n",
      " 0   ID_Patient_Care_Situation  23097 non-null  int64  \n",
      " 1   Diagnosed_Condition        23097 non-null  int64  \n",
      " 2   Patient_ID                 23097 non-null  int64  \n",
      " 3   Treated_with_drugs         23084 non-null  object \n",
      " 4   Patient_Age                23097 non-null  int64  \n",
      " 5   Patient_Body_Mass_Index    23097 non-null  float64\n",
      " 6   Patient_Smoker             23097 non-null  object \n",
      " 7   Patient_Rural_Urban        23097 non-null  object \n",
      " 8   Patient_mental_condition   23097 non-null  object \n",
      " 9   A                          21862 non-null  float64\n",
      " 10  B                          21862 non-null  float64\n",
      " 11  C                          21862 non-null  float64\n",
      " 12  D                          21862 non-null  float64\n",
      " 13  E                          21862 non-null  float64\n",
      " 14  F                          21862 non-null  float64\n",
      " 15  Z                          21862 non-null  float64\n",
      " 16  Number_of_prev_cond        21862 non-null  float64\n",
      " 17  Survived_1_year            23097 non-null  int64  \n",
      "dtypes: float64(9), int64(5), object(4)\n",
      "memory usage: 3.2+ MB\n"
     ]
    }
   ],
   "source": [
    "#Let's see the data types of each feature\n",
    "train_df.info()"
   ]
  },
  {
   "cell_type": "markdown",
   "metadata": {},
   "source": [
    "Now that we have an idea of what kinds of features we're working with, we can see how much information we have about each of them."
   ]
  },
  {
   "cell_type": "code",
   "execution_count": 6,
   "metadata": {},
   "outputs": [
    {
     "data": {
      "text/html": [
       "<div>\n",
       "<style scoped>\n",
       "    .dataframe tbody tr th:only-of-type {\n",
       "        vertical-align: middle;\n",
       "    }\n",
       "\n",
       "    .dataframe tbody tr th {\n",
       "        vertical-align: top;\n",
       "    }\n",
       "\n",
       "    .dataframe thead th {\n",
       "        text-align: right;\n",
       "    }\n",
       "</style>\n",
       "<table border=\"1\" class=\"dataframe\">\n",
       "  <thead>\n",
       "    <tr style=\"text-align: right;\">\n",
       "      <th></th>\n",
       "      <th>ID_Patient_Care_Situation</th>\n",
       "      <th>Diagnosed_Condition</th>\n",
       "      <th>Patient_ID</th>\n",
       "      <th>Treated_with_drugs</th>\n",
       "      <th>Patient_Age</th>\n",
       "      <th>Patient_Body_Mass_Index</th>\n",
       "      <th>Patient_Smoker</th>\n",
       "      <th>Patient_Rural_Urban</th>\n",
       "      <th>Patient_mental_condition</th>\n",
       "      <th>A</th>\n",
       "      <th>B</th>\n",
       "      <th>C</th>\n",
       "      <th>D</th>\n",
       "      <th>E</th>\n",
       "      <th>F</th>\n",
       "      <th>Z</th>\n",
       "      <th>Number_of_prev_cond</th>\n",
       "      <th>Survived_1_year</th>\n",
       "    </tr>\n",
       "  </thead>\n",
       "  <tbody>\n",
       "    <tr>\n",
       "      <th>count</th>\n",
       "      <td>23097.000000</td>\n",
       "      <td>23097.000000</td>\n",
       "      <td>23097.000000</td>\n",
       "      <td>23084</td>\n",
       "      <td>23097.000000</td>\n",
       "      <td>23097.000000</td>\n",
       "      <td>23097</td>\n",
       "      <td>23097</td>\n",
       "      <td>23097</td>\n",
       "      <td>21862.000000</td>\n",
       "      <td>21862.000000</td>\n",
       "      <td>21862.000000</td>\n",
       "      <td>21862.000000</td>\n",
       "      <td>21862.000000</td>\n",
       "      <td>21862.000000</td>\n",
       "      <td>21862.000000</td>\n",
       "      <td>21862.000000</td>\n",
       "      <td>23097.000000</td>\n",
       "    </tr>\n",
       "    <tr>\n",
       "      <th>unique</th>\n",
       "      <td>NaN</td>\n",
       "      <td>NaN</td>\n",
       "      <td>NaN</td>\n",
       "      <td>32</td>\n",
       "      <td>NaN</td>\n",
       "      <td>NaN</td>\n",
       "      <td>3</td>\n",
       "      <td>2</td>\n",
       "      <td>1</td>\n",
       "      <td>NaN</td>\n",
       "      <td>NaN</td>\n",
       "      <td>NaN</td>\n",
       "      <td>NaN</td>\n",
       "      <td>NaN</td>\n",
       "      <td>NaN</td>\n",
       "      <td>NaN</td>\n",
       "      <td>NaN</td>\n",
       "      <td>NaN</td>\n",
       "    </tr>\n",
       "    <tr>\n",
       "      <th>top</th>\n",
       "      <td>NaN</td>\n",
       "      <td>NaN</td>\n",
       "      <td>NaN</td>\n",
       "      <td>DX6</td>\n",
       "      <td>NaN</td>\n",
       "      <td>NaN</td>\n",
       "      <td>NO</td>\n",
       "      <td>RURAL</td>\n",
       "      <td>Stable</td>\n",
       "      <td>NaN</td>\n",
       "      <td>NaN</td>\n",
       "      <td>NaN</td>\n",
       "      <td>NaN</td>\n",
       "      <td>NaN</td>\n",
       "      <td>NaN</td>\n",
       "      <td>NaN</td>\n",
       "      <td>NaN</td>\n",
       "      <td>NaN</td>\n",
       "    </tr>\n",
       "    <tr>\n",
       "      <th>freq</th>\n",
       "      <td>NaN</td>\n",
       "      <td>NaN</td>\n",
       "      <td>NaN</td>\n",
       "      <td>8606</td>\n",
       "      <td>NaN</td>\n",
       "      <td>NaN</td>\n",
       "      <td>13246</td>\n",
       "      <td>16134</td>\n",
       "      <td>23097</td>\n",
       "      <td>NaN</td>\n",
       "      <td>NaN</td>\n",
       "      <td>NaN</td>\n",
       "      <td>NaN</td>\n",
       "      <td>NaN</td>\n",
       "      <td>NaN</td>\n",
       "      <td>NaN</td>\n",
       "      <td>NaN</td>\n",
       "      <td>NaN</td>\n",
       "    </tr>\n",
       "    <tr>\n",
       "      <th>mean</th>\n",
       "      <td>16545.712041</td>\n",
       "      <td>26.413127</td>\n",
       "      <td>6261.280772</td>\n",
       "      <td>NaN</td>\n",
       "      <td>33.209768</td>\n",
       "      <td>23.454820</td>\n",
       "      <td>NaN</td>\n",
       "      <td>NaN</td>\n",
       "      <td>NaN</td>\n",
       "      <td>0.897905</td>\n",
       "      <td>0.136355</td>\n",
       "      <td>0.185070</td>\n",
       "      <td>0.083615</td>\n",
       "      <td>0.393239</td>\n",
       "      <td>0.053700</td>\n",
       "      <td>0.000595</td>\n",
       "      <td>1.750480</td>\n",
       "      <td>0.632247</td>\n",
       "    </tr>\n",
       "    <tr>\n",
       "      <th>std</th>\n",
       "      <td>9532.263503</td>\n",
       "      <td>15.030865</td>\n",
       "      <td>3595.990620</td>\n",
       "      <td>NaN</td>\n",
       "      <td>19.549882</td>\n",
       "      <td>3.807661</td>\n",
       "      <td>NaN</td>\n",
       "      <td>NaN</td>\n",
       "      <td>NaN</td>\n",
       "      <td>0.302780</td>\n",
       "      <td>0.343173</td>\n",
       "      <td>0.388363</td>\n",
       "      <td>0.276817</td>\n",
       "      <td>0.488480</td>\n",
       "      <td>0.225431</td>\n",
       "      <td>0.024379</td>\n",
       "      <td>0.770311</td>\n",
       "      <td>0.482204</td>\n",
       "    </tr>\n",
       "    <tr>\n",
       "      <th>min</th>\n",
       "      <td>2.000000</td>\n",
       "      <td>0.000000</td>\n",
       "      <td>1.000000</td>\n",
       "      <td>NaN</td>\n",
       "      <td>0.000000</td>\n",
       "      <td>1.089300</td>\n",
       "      <td>NaN</td>\n",
       "      <td>NaN</td>\n",
       "      <td>NaN</td>\n",
       "      <td>0.000000</td>\n",
       "      <td>0.000000</td>\n",
       "      <td>0.000000</td>\n",
       "      <td>0.000000</td>\n",
       "      <td>0.000000</td>\n",
       "      <td>0.000000</td>\n",
       "      <td>0.000000</td>\n",
       "      <td>1.000000</td>\n",
       "      <td>0.000000</td>\n",
       "    </tr>\n",
       "    <tr>\n",
       "      <th>25%</th>\n",
       "      <td>8280.000000</td>\n",
       "      <td>13.000000</td>\n",
       "      <td>3181.000000</td>\n",
       "      <td>NaN</td>\n",
       "      <td>16.000000</td>\n",
       "      <td>20.205550</td>\n",
       "      <td>NaN</td>\n",
       "      <td>NaN</td>\n",
       "      <td>NaN</td>\n",
       "      <td>1.000000</td>\n",
       "      <td>0.000000</td>\n",
       "      <td>0.000000</td>\n",
       "      <td>0.000000</td>\n",
       "      <td>0.000000</td>\n",
       "      <td>0.000000</td>\n",
       "      <td>0.000000</td>\n",
       "      <td>1.000000</td>\n",
       "      <td>0.000000</td>\n",
       "    </tr>\n",
       "    <tr>\n",
       "      <th>50%</th>\n",
       "      <td>16597.000000</td>\n",
       "      <td>26.000000</td>\n",
       "      <td>6242.000000</td>\n",
       "      <td>NaN</td>\n",
       "      <td>33.000000</td>\n",
       "      <td>23.386199</td>\n",
       "      <td>NaN</td>\n",
       "      <td>NaN</td>\n",
       "      <td>NaN</td>\n",
       "      <td>1.000000</td>\n",
       "      <td>0.000000</td>\n",
       "      <td>0.000000</td>\n",
       "      <td>0.000000</td>\n",
       "      <td>0.000000</td>\n",
       "      <td>0.000000</td>\n",
       "      <td>0.000000</td>\n",
       "      <td>2.000000</td>\n",
       "      <td>1.000000</td>\n",
       "    </tr>\n",
       "    <tr>\n",
       "      <th>75%</th>\n",
       "      <td>24825.000000</td>\n",
       "      <td>39.000000</td>\n",
       "      <td>9363.000000</td>\n",
       "      <td>NaN</td>\n",
       "      <td>50.000000</td>\n",
       "      <td>26.788154</td>\n",
       "      <td>NaN</td>\n",
       "      <td>NaN</td>\n",
       "      <td>NaN</td>\n",
       "      <td>1.000000</td>\n",
       "      <td>0.000000</td>\n",
       "      <td>0.000000</td>\n",
       "      <td>0.000000</td>\n",
       "      <td>1.000000</td>\n",
       "      <td>0.000000</td>\n",
       "      <td>0.000000</td>\n",
       "      <td>2.000000</td>\n",
       "      <td>1.000000</td>\n",
       "    </tr>\n",
       "    <tr>\n",
       "      <th>max</th>\n",
       "      <td>33014.000000</td>\n",
       "      <td>52.000000</td>\n",
       "      <td>12515.000000</td>\n",
       "      <td>NaN</td>\n",
       "      <td>149.000000</td>\n",
       "      <td>29.999579</td>\n",
       "      <td>NaN</td>\n",
       "      <td>NaN</td>\n",
       "      <td>NaN</td>\n",
       "      <td>1.000000</td>\n",
       "      <td>1.000000</td>\n",
       "      <td>1.000000</td>\n",
       "      <td>1.000000</td>\n",
       "      <td>1.000000</td>\n",
       "      <td>1.000000</td>\n",
       "      <td>1.000000</td>\n",
       "      <td>5.000000</td>\n",
       "      <td>1.000000</td>\n",
       "    </tr>\n",
       "  </tbody>\n",
       "</table>\n",
       "</div>"
      ],
      "text/plain": [
       "        ID_Patient_Care_Situation  Diagnosed_Condition    Patient_ID  \\\n",
       "count                23097.000000         23097.000000  23097.000000   \n",
       "unique                        NaN                  NaN           NaN   \n",
       "top                           NaN                  NaN           NaN   \n",
       "freq                          NaN                  NaN           NaN   \n",
       "mean                 16545.712041            26.413127   6261.280772   \n",
       "std                   9532.263503            15.030865   3595.990620   \n",
       "min                      2.000000             0.000000      1.000000   \n",
       "25%                   8280.000000            13.000000   3181.000000   \n",
       "50%                  16597.000000            26.000000   6242.000000   \n",
       "75%                  24825.000000            39.000000   9363.000000   \n",
       "max                  33014.000000            52.000000  12515.000000   \n",
       "\n",
       "       Treated_with_drugs   Patient_Age  Patient_Body_Mass_Index  \\\n",
       "count               23084  23097.000000             23097.000000   \n",
       "unique                 32           NaN                      NaN   \n",
       "top                   DX6           NaN                      NaN   \n",
       "freq                 8606           NaN                      NaN   \n",
       "mean                  NaN     33.209768                23.454820   \n",
       "std                   NaN     19.549882                 3.807661   \n",
       "min                   NaN      0.000000                 1.089300   \n",
       "25%                   NaN     16.000000                20.205550   \n",
       "50%                   NaN     33.000000                23.386199   \n",
       "75%                   NaN     50.000000                26.788154   \n",
       "max                   NaN    149.000000                29.999579   \n",
       "\n",
       "       Patient_Smoker Patient_Rural_Urban Patient_mental_condition  \\\n",
       "count           23097               23097                    23097   \n",
       "unique              3                   2                        1   \n",
       "top                NO               RURAL                   Stable   \n",
       "freq            13246               16134                    23097   \n",
       "mean              NaN                 NaN                      NaN   \n",
       "std               NaN                 NaN                      NaN   \n",
       "min               NaN                 NaN                      NaN   \n",
       "25%               NaN                 NaN                      NaN   \n",
       "50%               NaN                 NaN                      NaN   \n",
       "75%               NaN                 NaN                      NaN   \n",
       "max               NaN                 NaN                      NaN   \n",
       "\n",
       "                   A             B             C             D             E  \\\n",
       "count   21862.000000  21862.000000  21862.000000  21862.000000  21862.000000   \n",
       "unique           NaN           NaN           NaN           NaN           NaN   \n",
       "top              NaN           NaN           NaN           NaN           NaN   \n",
       "freq             NaN           NaN           NaN           NaN           NaN   \n",
       "mean        0.897905      0.136355      0.185070      0.083615      0.393239   \n",
       "std         0.302780      0.343173      0.388363      0.276817      0.488480   \n",
       "min         0.000000      0.000000      0.000000      0.000000      0.000000   \n",
       "25%         1.000000      0.000000      0.000000      0.000000      0.000000   \n",
       "50%         1.000000      0.000000      0.000000      0.000000      0.000000   \n",
       "75%         1.000000      0.000000      0.000000      0.000000      1.000000   \n",
       "max         1.000000      1.000000      1.000000      1.000000      1.000000   \n",
       "\n",
       "                   F             Z  Number_of_prev_cond  Survived_1_year  \n",
       "count   21862.000000  21862.000000         21862.000000     23097.000000  \n",
       "unique           NaN           NaN                  NaN              NaN  \n",
       "top              NaN           NaN                  NaN              NaN  \n",
       "freq             NaN           NaN                  NaN              NaN  \n",
       "mean        0.053700      0.000595             1.750480         0.632247  \n",
       "std         0.225431      0.024379             0.770311         0.482204  \n",
       "min         0.000000      0.000000             1.000000         0.000000  \n",
       "25%         0.000000      0.000000             1.000000         0.000000  \n",
       "50%         0.000000      0.000000             2.000000         1.000000  \n",
       "75%         0.000000      0.000000             2.000000         1.000000  \n",
       "max         1.000000      1.000000             5.000000         1.000000  "
      ]
     },
     "execution_count": 6,
     "metadata": {},
     "output_type": "execute_result"
    }
   ],
   "source": [
    "#see a summary of the training dataset\n",
    "train_df.describe(include = \"all\")"
   ]
  },
  {
   "cell_type": "markdown",
   "metadata": {},
   "source": [
    "#### Some Observations:\n",
    "* There are a total of 23097 patients in our training set.\n",
    "* The \"Treated_with_drugs\" feature is missing approximately 1% of its values. I'm guessing that this feature is pretty important to survival, so we should probably attempt to fill these gaps. \n",
    "* The A, B, C, D, E, F, Z features have no relavant description column names and I think these features are not important.\n",
    "* The Patient_mental_condition has only one unique value, so we will drop this feature column.\n",
    "* The max age of the Patient_Age feature is 149, so we will place a threshold for this feature which is 100 and will drop all the patient who age is greater than 100."
   ]
  },
  {
   "cell_type": "code",
   "execution_count": 7,
   "metadata": {},
   "outputs": [
    {
     "name": "stdout",
     "output_type": "stream",
     "text": [
      "ID_Patient_Care_Situation       0\n",
      "Diagnosed_Condition             0\n",
      "Patient_ID                      0\n",
      "Treated_with_drugs             13\n",
      "Patient_Age                     0\n",
      "Patient_Body_Mass_Index         0\n",
      "Patient_Smoker                  0\n",
      "Patient_Rural_Urban             0\n",
      "Patient_mental_condition        0\n",
      "A                            1235\n",
      "B                            1235\n",
      "C                            1235\n",
      "D                            1235\n",
      "E                            1235\n",
      "F                            1235\n",
      "Z                            1235\n",
      "Number_of_prev_cond          1235\n",
      "Survived_1_year                 0\n",
      "dtype: int64\n"
     ]
    }
   ],
   "source": [
    "#check for any other unusable values\n",
    "print(pd.isnull(train_df).sum())"
   ]
  },
  {
   "cell_type": "markdown",
   "metadata": {},
   "source": [
    "### 4) Data cleaning\n",
    "We will have to clean the datasets before visualization because with messy data, we will not be able to clearly describe the insights."
   ]
  },
  {
   "cell_type": "code",
   "execution_count": 8,
   "metadata": {},
   "outputs": [],
   "source": [
    "# Dropping umimportant columns\n",
    "cols_to_drop = ['ID_Patient_Care_Situation','Patient_mental_condition', 'Patient_ID',\n",
    "                'A', 'B', 'C', 'D','E', 'F', 'Z']\n",
    "train_df = train_df.drop(cols_to_drop,axis=1)\n",
    "test_df = test_df.drop(cols_to_drop,axis=1)"
   ]
  },
  {
   "cell_type": "code",
   "execution_count": 9,
   "metadata": {},
   "outputs": [],
   "source": [
    "# Drop patient with age greater than 100\n",
    "train_df = train_df[train_df.Patient_Age < 100]\n",
    "test_df = test_df[test_df.Patient_Age < 100]"
   ]
  },
  {
   "cell_type": "code",
   "execution_count": 10,
   "metadata": {},
   "outputs": [
    {
     "name": "stdout",
     "output_type": "stream",
     "text": [
      "['YES' 'NO']\n",
      "['NO' 'YES']\n"
     ]
    }
   ],
   "source": [
    "# Inspect the categorical features\n",
    "print(train_df['Patient_Smoker'].unique())\n",
    "print(test_df['Patient_Smoker'].unique())"
   ]
  },
  {
   "cell_type": "markdown",
   "metadata": {},
   "source": [
    "Although there are three unique values in Patient_Smoker column for train dataset when we explore above, the \"Cannot Say\" value got deleted when we drop rows with patient whose age greater than 100. Therefore, it is okay now for this feature."
   ]
  },
  {
   "cell_type": "code",
   "execution_count": 11,
   "metadata": {},
   "outputs": [
    {
     "data": {
      "text/plain": [
       "array(['DX6', 'DX2 ', 'DX1 ', 'DX3 ', 'DX5 ', 'DX4 ', 'DX2 DX5 ',\n",
       "       'DX2 DX3 ', 'DX1 DX3 ', 'DX1 DX2 ', 'DX3 DX4 ', 'DX1 DX4 ',\n",
       "       'DX1 DX5 ', 'DX2 DX4 DX5 ', 'DX1 DX2 DX3 ', 'DX3 DX5 ', 'DX2 DX4 ',\n",
       "       'DX3 DX4 DX5 ', 'DX2 DX3 DX5 ', 'DX1 DX2 DX3 DX4 ', 'DX4 DX5 ',\n",
       "       'DX2 DX3 DX4 ', 'DX1 DX4 DX5 ', 'DX1 DX2 DX4 ', 'DX1 DX3 DX5 ',\n",
       "       'DX1 DX2 DX5 ', 'DX1 DX3 DX4 ', 'DX1 DX3 DX4 DX5 ',\n",
       "       'DX1 DX2 DX4 DX5 ', 'DX2 DX3 DX4 DX5 ', 'DX1 DX2 DX3 DX5 ',\n",
       "       'DX1 DX2 DX3 DX4 DX5 '], dtype=object)"
      ]
     },
     "execution_count": 11,
     "metadata": {},
     "output_type": "execute_result"
    }
   ],
   "source": [
    "train_df.Treated_with_drugs.unique()"
   ]
  },
  {
   "cell_type": "markdown",
   "metadata": {},
   "source": [
    "As you can see, above categorical feature cannot be any help because the values are messy and we have to transform them.\n",
    "We will transform them by constructing each drug name in a new column. We will also drop rows with nan values."
   ]
  },
  {
   "cell_type": "code",
   "execution_count": 12,
   "metadata": {},
   "outputs": [],
   "source": [
    "# Drop rows with nan values\n",
    "train_df.dropna(subset=['Treated_with_drugs'], how='any', inplace=True)\n",
    "train_df = train_df[train_df.Treated_with_drugs != 'nan']\n",
    "test_df.dropna(subset=['Treated_with_drugs'], how='any', inplace=True)\n",
    "test_df = test_df[test_df.Treated_with_drugs != 'nan']"
   ]
  },
  {
   "cell_type": "code",
   "execution_count": 13,
   "metadata": {},
   "outputs": [],
   "source": [
    "# Replace with lower case letter\n",
    "def format_value(x):\n",
    "    x = str(x).strip()\n",
    "    x = x.lower()\n",
    "    return x"
   ]
  },
  {
   "cell_type": "code",
   "execution_count": 14,
   "metadata": {},
   "outputs": [],
   "source": [
    "train_df['Treated_with_drugs'] = train_df['Treated_with_drugs'].map(format_value)\n",
    "test_df['Treated_with_drugs'] = test_df['Treated_with_drugs'].map(format_value)"
   ]
  },
  {
   "cell_type": "code",
   "execution_count": 15,
   "metadata": {},
   "outputs": [
    {
     "data": {
      "text/plain": [
       "array(['dx6', 'dx2', 'dx1', 'dx3', 'dx5', 'dx4', 'dx2 dx5', 'dx2 dx3',\n",
       "       'dx1 dx3', 'dx1 dx2', 'dx3 dx4', 'dx1 dx4', 'dx1 dx5',\n",
       "       'dx2 dx4 dx5', 'dx1 dx2 dx3', 'dx3 dx5', 'dx2 dx4', 'dx3 dx4 dx5',\n",
       "       'dx2 dx3 dx5', 'dx1 dx2 dx3 dx4', 'dx4 dx5', 'dx2 dx3 dx4',\n",
       "       'dx1 dx4 dx5', 'dx1 dx2 dx4', 'dx1 dx3 dx5', 'dx1 dx2 dx5',\n",
       "       'dx1 dx3 dx4', 'dx1 dx3 dx4 dx5', 'dx1 dx2 dx4 dx5',\n",
       "       'dx2 dx3 dx4 dx5', 'dx1 dx2 dx3 dx5', 'dx1 dx2 dx3 dx4 dx5'],\n",
       "      dtype=object)"
      ]
     },
     "execution_count": 15,
     "metadata": {},
     "output_type": "execute_result"
    }
   ],
   "source": [
    "train_df.Treated_with_drugs.unique()"
   ]
  },
  {
   "cell_type": "code",
   "execution_count": 16,
   "metadata": {},
   "outputs": [],
   "source": [
    "# Split the text in each row and create new dataframes\n",
    "df1 = train_df['Treated_with_drugs'].str.split(\" \", expand=True)\n",
    "df2 = test_df['Treated_with_drugs'].str.split(\" \", expand=True)"
   ]
  },
  {
   "cell_type": "code",
   "execution_count": 17,
   "metadata": {},
   "outputs": [],
   "source": [
    "# Rename the column names\n",
    "df1 = df1.rename(columns={0:'T1',1:'T2',2:'T3',3:'T4',4:'T5'})\n",
    "df2 = df2.rename(columns={0:'T1',1:'T2',2:'T3',3:'T4',4:'T5'})"
   ]
  },
  {
   "cell_type": "code",
   "execution_count": 18,
   "metadata": {},
   "outputs": [],
   "source": [
    "# Fill the nan values with 'dx0' for better understanding\n",
    "df1 = df1.fillna('dx0')\n",
    "df2 = df2.fillna('dx0')"
   ]
  },
  {
   "cell_type": "code",
   "execution_count": 19,
   "metadata": {},
   "outputs": [],
   "source": [
    "# Combine with original dataframe\n",
    "train = pd.concat([df1,train_df],axis=1)\n",
    "test = pd.concat([df2,test_df],axis=1)"
   ]
  },
  {
   "cell_type": "code",
   "execution_count": 20,
   "metadata": {},
   "outputs": [],
   "source": [
    "# Drop the Treated_with_drugs column for train and test data sets\n",
    "train = train.drop(['Treated_with_drugs'], axis=1)\n",
    "test = test.drop(['Treated_with_drugs'], axis=1)"
   ]
  },
  {
   "cell_type": "code",
   "execution_count": 21,
   "metadata": {},
   "outputs": [
    {
     "name": "stdout",
     "output_type": "stream",
     "text": [
      "<class 'pandas.core.frame.DataFrame'>\n",
      "Int64Index: 23084 entries, 0 to 23096\n",
      "Data columns (total 12 columns):\n",
      " #   Column                   Non-Null Count  Dtype  \n",
      "---  ------                   --------------  -----  \n",
      " 0   T1                       23084 non-null  object \n",
      " 1   T2                       23084 non-null  object \n",
      " 2   T3                       23084 non-null  object \n",
      " 3   T4                       23084 non-null  object \n",
      " 4   T5                       23084 non-null  object \n",
      " 5   Diagnosed_Condition      23084 non-null  int64  \n",
      " 6   Patient_Age              23084 non-null  int64  \n",
      " 7   Patient_Body_Mass_Index  23084 non-null  float64\n",
      " 8   Patient_Smoker           23084 non-null  object \n",
      " 9   Patient_Rural_Urban      23084 non-null  object \n",
      " 10  Number_of_prev_cond      21849 non-null  float64\n",
      " 11  Survived_1_year          23084 non-null  int64  \n",
      "dtypes: float64(2), int64(3), object(7)\n",
      "memory usage: 2.3+ MB\n"
     ]
    }
   ],
   "source": [
    "train.info()"
   ]
  },
  {
   "cell_type": "markdown",
   "metadata": {},
   "source": [
    "### 5) Data visualization"
   ]
  },
  {
   "cell_type": "markdown",
   "metadata": {},
   "source": [
    "#### Patient_Smoker feature"
   ]
  },
  {
   "cell_type": "code",
   "execution_count": 22,
   "metadata": {},
   "outputs": [
    {
     "name": "stdout",
     "output_type": "stream",
     "text": [
      "Percentage of non-smoker who survived: 73.7354673108863\n",
      "Percentage of smoker who survived: 49.02419190892458\n"
     ]
    },
    {
     "data": {
      "image/png": "[encoded data removed]",
      "text/plain": [
       "<Figure size 432x288 with 1 Axes>"
      ]
     },
     "metadata": {
      "needs_background": "light"
     },
     "output_type": "display_data"
    }
   ],
   "source": [
    "#draw a bar plot of survival by smoking condition\n",
    "sns.barplot(x=\"Patient_Smoker\", y=\"Survived_1_year\", data=train)\n",
    "\n",
    "#print percentages of smoker vs. non-smoker that survive\n",
    "print(\"Percentage of non-smoker who survived:\", train[\"Survived_1_year\"][train[\"Patient_Smoker\"] == 'NO'].value_counts(normalize = True)[1]*100)\n",
    "\n",
    "print(\"Percentage of smoker who survived:\", train[\"Survived_1_year\"][train[\"Patient_Smoker\"] == 'YES'].value_counts(normalize = True)[1]*100)"
   ]
  },
  {
   "cell_type": "markdown",
   "metadata": {},
   "source": [
    "As we can see from above graph, patients who do not smoke have higher survival rate."
   ]
  },
  {
   "cell_type": "markdown",
   "metadata": {},
   "source": [
    "#### Patient_Rural_Urban "
   ]
  },
  {
   "cell_type": "code",
   "execution_count": 23,
   "metadata": {},
   "outputs": [
    {
     "name": "stdout",
     "output_type": "stream",
     "text": [
      "Percentage of patient in rural areal who survived: 66.77005148563985\n",
      "Percentage of patient in urban who survived: 54.94758006606348\n"
     ]
    },
    {
     "data": {
      "image/png": "[encoded data removed]",
      "text/plain": [
       "<Figure size 432x288 with 1 Axes>"
      ]
     },
     "metadata": {
      "needs_background": "light"
     },
     "output_type": "display_data"
    }
   ],
   "source": [
    "#draw a bar plot of survival by area\n",
    "sns.barplot(x=\"Patient_Rural_Urban\", y=\"Survived_1_year\", data=train)\n",
    "\n",
    "#print percentages of rural vs. urban that survive\n",
    "print(\"Percentage of patient in rural areal who survived:\", train[\"Survived_1_year\"][train[\"Patient_Rural_Urban\"] == 'RURAL'].value_counts(normalize = True)[1]*100)\n",
    "\n",
    "print(\"Percentage of patient in urban who survived:\", train[\"Survived_1_year\"][train[\"Patient_Rural_Urban\"] == 'URBAN'].value_counts(normalize = True)[1]*100)"
   ]
  },
  {
   "cell_type": "markdown",
   "metadata": {},
   "source": [
    "Patients who live in rural area have higher survival rate."
   ]
  },
  {
   "cell_type": "markdown",
   "metadata": {},
   "source": [
    "#### Drug types"
   ]
  },
  {
   "cell_type": "code",
   "execution_count": 24,
   "metadata": {},
   "outputs": [],
   "source": [
    "def bar_plot(variable):\n",
    "    var = train[variable] # get feature\n",
    "    varValue = var.value_counts()#count number of categorical variables\n",
    "    \n",
    "    plt.figure(figsize = (9,3))\n",
    "    plt.bar(varValue.index, varValue)\n",
    "    plt.xticks(varValue.index, varValue.index.values)\n",
    "    plt.ylabel(\"Frequency\")\n",
    "    plt.title(\"variable\")\n",
    "    plt.show"
   ]
  },
  {
   "cell_type": "code",
   "execution_count": 25,
   "metadata": {},
   "outputs": [
    {
     "data": {
      "image/png": "[encoded data removed]",
      "text/plain": [
       "<Figure size 648x216 with 1 Axes>"
      ]
     },
     "metadata": {
      "needs_background": "light"
     },
     "output_type": "display_data"
    },
    {
     "data": {
      "image/png": "[encoded data removed]",
      "text/plain": [
       "<Figure size 648x216 with 1 Axes>"
      ]
     },
     "metadata": {
      "needs_background": "light"
     },
     "output_type": "display_data"
    },
    {
     "data": {
      "image/png": "[encoded data removed]",
      "text/plain": [
       "<Figure size 648x216 with 1 Axes>"
      ]
     },
     "metadata": {
      "needs_background": "light"
     },
     "output_type": "display_data"
    },
    {
     "data": {
      "image/png": "[encoded data removed]",
      "text/plain": [
       "<Figure size 648x216 with 1 Axes>"
      ]
     },
     "metadata": {
      "needs_background": "light"
     },
     "output_type": "display_data"
    },
    {
     "data": {
      "image/png": "[encoded data removed]",
      "text/plain": [
       "<Figure size 648x216 with 1 Axes>"
      ]
     },
     "metadata": {
      "needs_background": "light"
     },
     "output_type": "display_data"
    }
   ],
   "source": [
    "category1 = [\"T1\", \"T2\", \"T3\", \"T4\", \"T5\"]\n",
    "for c in category1:\n",
    "     bar_plot(c)"
   ]
  },
  {
   "cell_type": "code",
   "execution_count": 26,
   "metadata": {},
   "outputs": [],
   "source": [
    "# One-hot-encode the categorical values\n",
    "def col_get_dummies(df, cat_col):\n",
    "    for col_name in cat_col:\n",
    "        df[col_name] = df[col_name].astype(\"category\")\n",
    "        df = pd.get_dummies(df, columns = [col_name])\n",
    "    return df\n",
    "\n",
    "cat_col = [\"T1\", \"T2\", \"T3\", \"T4\", \"T5\", \"Patient_Smoker\", \"Patient_Rural_Urban\"]\n",
    "train = col_get_dummies(train, cat_col)\n",
    "test = col_get_dummies(test, cat_col)"
   ]
  },
  {
   "cell_type": "code",
   "execution_count": 27,
   "metadata": {},
   "outputs": [],
   "source": [
    "# Fill nan values in Number_of_pre_cond\n",
    "train[\"Number_of_prev_cond\"] = train[\"Number_of_prev_cond\"].fillna(train[\"Number_of_prev_cond\"].mean())\n",
    "test[\"Number_of_prev_cond\"] = test[\"Number_of_prev_cond\"].fillna(test[\"Number_of_prev_cond\"].mean())"
   ]
  },
  {
   "cell_type": "markdown",
   "metadata": {},
   "source": [
    "### 6) Building GradientBoostingClassifier model"
   ]
  },
  {
   "cell_type": "markdown",
   "metadata": {},
   "source": [
    "#### Splitting the training data"
   ]
  },
  {
   "cell_type": "code",
   "execution_count": 28,
   "metadata": {},
   "outputs": [],
   "source": [
    "from sklearn.model_selection import train_test_split\n",
    "predictors = train.drop(labels = \"Survived_1_year\", axis = 1)\n",
    "labels = train[\"Survived_1_year\"]\n",
    "x_train, x_val, y_train, y_val = train_test_split(predictors, labels, test_size = 0.22, random_state = 32)"
   ]
  },
  {
   "cell_type": "code",
   "execution_count": 30,
   "metadata": {},
   "outputs": [
    {
     "name": "stdout",
     "output_type": "stream",
     "text": [
      "81.22\n"
     ]
    }
   ],
   "source": [
    "# Gradient Boosting Classifier\n",
    "from sklearn.ensemble import GradientBoostingClassifier\n",
    "from sklearn.metrics import accuracy_score\n",
    "\n",
    "gbk = GradientBoostingClassifier()\n",
    "gbk.fit(x_train, y_train)\n",
    "y_pred = gbk.predict(x_val)\n",
    "acc_gbk = round(accuracy_score(y_pred, y_val) * 100, 2)\n",
    "print(acc_gbk)"
   ]
  },
  {
   "cell_type": "markdown",
   "metadata": {},
   "source": [
    "### 7) Prediction"
   ]
  },
  {
   "cell_type": "code",
   "execution_count": 31,
   "metadata": {},
   "outputs": [],
   "source": [
    "test_survived = pd.Series(gbk.predict(test), name = \"prediction\").astype(int)"
   ]
  },
  {
   "cell_type": "code",
   "execution_count": 32,
   "metadata": {},
   "outputs": [],
   "source": [
    "test_survived.to_csv(\"prediction.csv\", index = False)"
   ]
  },
  {
   "cell_type": "code",
   "execution_count": null,
   "metadata": {},
   "outputs": [],
   "source": []
  }
 ],
 "metadata": {
  "kernelspec": {
   "display_name": "Python 3",
   "language": "python",
   "name": "python3"
  },
  "language_info": {
   "codemirror_mode": {
    "name": "ipython",
    "version": 3
   },
   "file_extension": ".py",
   "mimetype": "text/x-python",
   "name": "python",
   "nbconvert_exporter": "python",
   "pygments_lexer": "ipython3",
   "version": "3.8.5"
  }
 },
 "nbformat": 4,
 "nbformat_minor": 4
}
